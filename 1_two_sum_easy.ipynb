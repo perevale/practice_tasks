{
 "cells": [
  {
   "cell_type": "markdown",
   "metadata": {},
   "source": [
    "[Two Sum Problem](https://leetcode.com/problems/two-sum/)\n",
    "\n",
    "Given an array of integers nums and an integer target, return indices of the two numbers such that they add up to target."
   ]
  },
  {
   "cell_type": "code",
   "execution_count": 4,
   "metadata": {},
   "outputs": [],
   "source": [
    "from typing import List"
   ]
  },
  {
   "cell_type": "code",
   "execution_count": null,
   "metadata": {},
   "outputs": [],
   "source": [
    "class Solution:\n",
    "    def twoSum(self, nums: List[int], target: int) -> List[int]:\n",
    "        first_index = None\n",
    "        second_index = None\n",
    "        for i in range(len(nums)-1):\n",
    "            first_index = i\n",
    "            \n",
    "            for j in range(i+1, len(nums)):\n",
    "                if target - nums[i] == nums[j]:\n",
    "                    second_index = j\n",
    "                    break\n",
    "            if second_index is not None:\n",
    "                break\n",
    "        return [first_index, second_index]"
   ]
  },
  {
   "cell_type": "markdown",
   "metadata": {},
   "source": [
    "I wanted to make it a little bit more efficient by sorting the array first and pruning the search if the second value was unviable. But I have forgotten that I need to return the indices - here the overhead of sorting and then searching the original array for indices completely destroys the \"efficiency\" of pruning. Or does it? \n",
    "\n",
    "O(nlogn)+O(nlogn)+O(n)+O(n) = sorting + pruning + looking for indices\n",
    "\n",
    "O(n^2) = searching the arrays completely everytime\n",
    "\n",
    "Well, assymptotically the pruning wins."
   ]
  },
  {
   "cell_type": "code",
   "execution_count": 9,
   "metadata": {},
   "outputs": [],
   "source": [
    "class Solution:\n",
    "    def twoSum(self, nums: List[int], target: int) -> List[int]:\n",
    "        sorted_nums = sorted(nums)\n",
    "        first_index = None\n",
    "        second_index = None\n",
    "        for i in range(len(sorted_nums)-1):\n",
    "            first_index = i\n",
    "            \n",
    "            for j in range(i+1, len(sorted_nums)):\n",
    "                if target - sorted_nums[i] == sorted_nums[j]:\n",
    "                    second_index = j\n",
    "                    break\n",
    "                if sorted_nums[j] > target - sorted_nums[i]:\n",
    "                    break\n",
    "            if second_index is not None:\n",
    "                break\n",
    "        first_index_orig = nums.index(sorted_nums[first_index])\n",
    "        second_index_orig = nums.index(sorted_nums[second_index])\n",
    "        if first_index_orig == second_index_orig:\n",
    "            second_index_orig = nums.index(sorted_nums[second_index], first_index_orig+1)\n",
    "            \n",
    "        return [first_index_orig, second_index_orig]"
   ]
  },
  {
   "cell_type": "markdown",
   "metadata": {},
   "source": [
    "This Solution uses 7206 ms and 14.9 MB"
   ]
  },
  {
   "cell_type": "markdown",
   "metadata": {},
   "source": [
    "However, the solution without pruning that is supposed to be O(n^2) only uses 3811 ms and 14.9 MB"
   ]
  },
  {
   "cell_type": "markdown",
   "metadata": {},
   "source": [
    "And that is so far from the desired fast simplicity. The fastest and one of the most brief solutions adds each element to the dictionary with index as value and then checks for the complement. What does it teach us? Don't underestimate the power of the lookup tables."
   ]
  },
  {
   "cell_type": "markdown",
   "metadata": {},
   "source": [
    "The task took about 20 minutes for the first solution and about an hour for two solutions and checking the winning results."
   ]
  }
 ],
 "metadata": {
  "kernelspec": {
   "display_name": "Python 3.9.9 ('env': venv)",
   "language": "python",
   "name": "python3"
  },
  "language_info": {
   "codemirror_mode": {
    "name": "ipython",
    "version": 3
   },
   "file_extension": ".py",
   "mimetype": "text/x-python",
   "name": "python",
   "nbconvert_exporter": "python",
   "pygments_lexer": "ipython3",
   "version": "3.9.9"
  },
  "orig_nbformat": 4,
  "vscode": {
   "interpreter": {
    "hash": "5a4d8305312343ca99b6909d2286c34206569796b31bdd82de47ef126f4918a2"
   }
  }
 },
 "nbformat": 4,
 "nbformat_minor": 2
}
